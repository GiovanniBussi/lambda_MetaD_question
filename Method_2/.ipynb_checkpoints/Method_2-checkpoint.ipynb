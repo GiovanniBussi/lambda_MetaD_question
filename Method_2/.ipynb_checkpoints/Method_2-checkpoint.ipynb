{
 "cells": [
  {
   "cell_type": "markdown",
   "id": "pleased-wagon",
   "metadata": {},
   "source": [
    "# Method 2 (Equation 10 in the Nature review)"
   ]
  },
  {
   "cell_type": "markdown",
   "id": "smart-administrator",
   "metadata": {},
   "source": [
    "Here we show our second method of calculating the uncertainty of the free energy profile, which is actually an implementation of Equation 10 in Nature review paper: [Using metadynamics to explore complex free-energy landscapes](https://www.nature.com/articles/s42254-020-0153-0). Specifically, the uncertainty of the free energy surface can be estimated using the following equation:\n",
    "$$\\text{err}(s) = \\frac{1}{\\sqrt{N_{b}}}\\sqrt{\\text{Var}_{i}\\left [ \\log \\left ( e^{\\frac{B(s, t_{\\text{fill}} + (i+1)L_{b})}{\\Delta T}}-e^{\\frac{B(s, t_{\\text{fill}} + iL_{b})}{\\Delta T}}\\right )\\right ]}$$"
   ]
  },
  {
   "cell_type": "code",
   "execution_count": 1,
   "id": "marked-territory",
   "metadata": {},
   "outputs": [],
   "source": [
    "%%bash\n",
    "cp ../input_files/* ."
   ]
  },
  {
   "cell_type": "markdown",
   "id": "regional-signal",
   "metadata": {},
   "source": [
    "The free energy difference is -3.200675 +/-  0.065225 kT. (Block size: 1000 steps, or 20.0 ps.)\n",
    "Time elapsed:  29822.49 seconds."
   ]
  },
  {
   "cell_type": "code",
   "execution_count": null,
   "id": "retained-message",
   "metadata": {},
   "outputs": [],
   "source": []
  }
 ],
 "metadata": {
  "kernelspec": {
   "display_name": "Python 3",
   "language": "python",
   "name": "python3"
  },
  "language_info": {
   "codemirror_mode": {
    "name": "ipython",
    "version": 3
   },
   "file_extension": ".py",
   "mimetype": "text/x-python",
   "name": "python",
   "nbconvert_exporter": "python",
   "pygments_lexer": "ipython3",
   "version": "3.9.2"
  }
 },
 "nbformat": 4,
 "nbformat_minor": 5
}
